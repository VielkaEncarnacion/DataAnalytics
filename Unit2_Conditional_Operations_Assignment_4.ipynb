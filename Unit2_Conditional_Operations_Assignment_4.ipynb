{
  "nbformat": 4,
  "nbformat_minor": 0,
  "metadata": {
    "colab": {
      "name": "Copy of Unit2_Conditional_Operations_Assignment_4.ipynb",
      "provenance": [],
      "collapsed_sections": [],
      "include_colab_link": true
    },
    "kernelspec": {
      "name": "python3",
      "display_name": "Python 3"
    }
  },
  "cells": [
    {
      "cell_type": "markdown",
      "metadata": {
        "id": "view-in-github",
        "colab_type": "text"
      },
      "source": [
        "<a href=\"https://colab.research.google.com/github/VielkaEncarnacion/DataAnalytics/blob/main/Unit2_Conditional_Operations_Assignment_4.ipynb\" target=\"_parent\"><img src=\"https://colab.research.google.com/assets/colab-badge.svg\" alt=\"Open In Colab\"/></a>"
      ]
    },
    {
      "cell_type": "markdown",
      "metadata": {
        "id": "Vgs8Kp4TidFQ"
      },
      "source": [
        "# Intrdouction to Python - Conditional Operations Assignment #4\r\n",
        "\r\n",
        "## If-elif-else Statements "
      ]
    },
    {
      "cell_type": "markdown",
      "metadata": {
        "id": "_Hq7Ny79iwgD"
      },
      "source": [
        "## 1.\tMake a list of 5 or more usernames, including an admin account.  Imagine you are writing code that will welcome people to your application on login. Loop through the list and print your greeting.\r\n",
        "\r\n",
        "a.\tIf the admin account logs in, give them a special greeting.  They’re the admin, after all!\r\n",
        "\r\n",
        "b.\tOther users can get the generic greeting\r\n",
        "\r\n"
      ]
    },
    {
      "cell_type": "code",
      "metadata": {
        "id": "lotvpVpvlKsR",
        "colab": {
          "base_uri": "https://localhost:8080/"
        },
        "outputId": "866afca4-7a40-488a-f123-95040abc460e"
      },
      "source": [
        "usernames = ['Sam', 'Tom', 'Peter', 'Admn', 'Tony']\n",
        "for username in usernames:\n",
        "  if username == 'Admn':\n",
        "    print('Welcome Admn, what would you like to see?')\n",
        "  else:\n",
        "    print('Welcome ' + username + ', thank you for logging back in!')\n"
      ],
      "execution_count": 22,
      "outputs": [
        {
          "output_type": "stream",
          "text": [
            "Welcome Sam, thank you for logging back in!\n",
            "Welcome Tom, thank you for logging back in!\n",
            "Welcome Peter, thank you for logging back in!\n",
            "Welcome Admn, what would you like to see?\n",
            "Welcome Tony, thank you for logging back in!\n"
          ],
          "name": "stdout"
        }
      ]
    },
    {
      "cell_type": "markdown",
      "metadata": {
        "id": "io_27RSlizno"
      },
      "source": [
        "## 2.\tStore numbers 1-10 in a list\r\n",
        "\r\n",
        "a.\tLoop through the list\r\n",
        "\r\n",
        "b.\tUse an if-elif-else chain inside your loop to print the ordinal ending for each number – for example – 1st, 2nd, 3rd … etc.\r\n",
        "\r\n"
      ]
    },
    {
      "cell_type": "code",
      "metadata": {
        "id": "Dh1o5cAylSHB",
        "colab": {
          "base_uri": "https://localhost:8080/"
        },
        "outputId": "b1072eca-7dec-4623-dbec-b75faf4cd5f0"
      },
      "source": [
        "class_rank = list(range(1,21))\n",
        "print(class_rank)\n",
        "for number in class_rank: \n",
        "  if number == 1:\n",
        "    print('1st')\n",
        "  elif number == 2:\n",
        "    print('2nd')\n",
        "  else:\n",
        "    print(str(number)+ \"th\")\n"
      ],
      "execution_count": 21,
      "outputs": [
        {
          "output_type": "stream",
          "text": [
            "[1, 2, 3, 4, 5, 6, 7, 8, 9, 10, 11, 12, 13, 14, 15, 16, 17, 18, 19, 20]\n",
            "1st\n",
            "2nd\n",
            "3th\n",
            "4th\n",
            "5th\n",
            "6th\n",
            "7th\n",
            "8th\n",
            "9th\n",
            "10th\n",
            "11th\n",
            "12th\n",
            "13th\n",
            "14th\n",
            "15th\n",
            "16th\n",
            "17th\n",
            "18th\n",
            "19th\n",
            "20th\n"
          ],
          "name": "stdout"
        }
      ]
    }
  ]
}