{
  "nbformat": 4,
  "nbformat_minor": 0,
  "metadata": {
    "colab": {
      "name": "Unit3-Numpy.ipynb",
      "provenance": [],
      "authorship_tag": "ABX9TyPB0xRLcRGU47wsuCJUBHs0",
      "include_colab_link": true
    },
    "kernelspec": {
      "name": "python3",
      "display_name": "Python 3"
    }
  },
  "cells": [
    {
      "cell_type": "markdown",
      "metadata": {
        "id": "view-in-github",
        "colab_type": "text"
      },
      "source": [
        "<a href=\"https://colab.research.google.com/github/VielkaEncarnacion/DataAnalytics/blob/main/Python-Unit3_Numpy.ipynb\" target=\"_parent\"><img src=\"https://colab.research.google.com/assets/colab-badge.svg\" alt=\"Open In Colab\"/></a>"
      ]
    },
    {
      "cell_type": "code",
      "metadata": {
        "id": "-ZrI7YIviV66"
      },
      "source": [
        "import numpy as np #as help create an alias so its easy to call and work wirh the package"
      ],
      "execution_count": 17,
      "outputs": []
    },
    {
      "cell_type": "markdown",
      "metadata": {
        "id": "n7ePTxYZlbza"
      },
      "source": [
        "-ndim- number of dimensions\n",
        "\n",
        "-shape- the total number of columns and rows in an array (Columns, rows)\n",
        "\n",
        "-size- number of elements in the array\n",
        "\n",
        "-dtype-dtatype of the object- unicode with 7"
      ]
    },
    {
      "cell_type": "code",
      "metadata": {
        "colab": {
          "base_uri": "https://localhost:8080/"
        },
        "id": "k2l5zaK8lmDt",
        "outputId": "e14b0b68-f2e0-4091-ed0a-849bc0dcd4e6"
      },
      "source": [
        "np_city = np. array(['NYC','LA','Houston','Miami', 'SFO'])\n",
        "#np_city.ndim\n",
        "#np_city.shape\n",
        "#np_city.size\n",
        "np_city.dtype #number of characters in the larger city name U-unit(characters)"
      ],
      "execution_count": 49,
      "outputs": [
        {
          "output_type": "execute_result",
          "data": {
            "text/plain": [
              "dtype('<U7')"
            ]
          },
          "metadata": {
            "tags": []
          },
          "execution_count": 49
        }
      ]
    },
    {
      "cell_type": "code",
      "metadata": {
        "colab": {
          "base_uri": "https://localhost:8080/"
        },
        "id": "6es6-xm3mRv6",
        "outputId": "e142c9ee-7dbc-4ec3-f18b-e645aaee0f9f"
      },
      "source": [
        "import numpy as np\n",
        "\n",
        "np_city_with_state = np.array([['NYC','LA','Houston','Miami'], ['NY', 'CA','TX','FL']])\n",
        "np_city_with_state.ndim\n",
        "np_city_with_state.shape\n",
        "#np_city_with_state.size\n",
        "#np_city_with_state.dtype"
      ],
      "execution_count": 19,
      "outputs": [
        {
          "output_type": "execute_result",
          "data": {
            "text/plain": [
              "(2, 4)"
            ]
          },
          "metadata": {
            "tags": []
          },
          "execution_count": 19
        }
      ]
    },
    {
      "cell_type": "code",
      "metadata": {
        "id": "Vh-yAgaknU1H"
      },
      "source": [
        "#Arrays \n",
        "#Ordered index starts at 0, just like lists\n",
        "#Values are summed at the index level"
      ],
      "execution_count": null,
      "outputs": []
    },
    {
      "cell_type": "code",
      "metadata": {
        "colab": {
          "base_uri": "https://localhost:8080/"
        },
        "id": "FOOfs6mlncb0",
        "outputId": "ddae3106-5617-4368-8df5-8b0a8584bba0"
      },
      "source": [
        "first_trial_cyclist = [10,15,17,26]\n",
        "second_trial_cyclist = [12,11,21,24]\n",
        "\n",
        "np_ftc = np.array(first_trial_cyclist)\n",
        "np_stc = np.array(second_trial_cyclist)\n",
        "\n",
        "np_ftc + np_stc"
      ],
      "execution_count": 20,
      "outputs": [
        {
          "output_type": "execute_result",
          "data": {
            "text/plain": [
              "array([22, 26, 38, 50])"
            ]
          },
          "metadata": {
            "tags": []
          },
          "execution_count": 20
        }
      ]
    },
    {
      "cell_type": "code",
      "metadata": {
        "colab": {
          "base_uri": "https://localhost:8080/"
        },
        "id": "kRoKUSDpn6_c",
        "outputId": "a94408b3-849b-4906-d1b1-e1ce6675ea20"
      },
      "source": [
        "#Professor Example Version \n",
        "first_trial_cyclist = [10,15,17,26]\n",
        "second_trial_cyclist = [12,11,21,24]\n",
        "cyclist_time = np.array([[10,15,17,26],[12,11,21,24]]) #array0 #arrray1\n",
        "ftc_time = cyclist_time[0]\n",
        "ftc_times = cyclist_time[0,0]\n",
        "stc_time = cyclist_time[1]\n",
        "stc_times = cyclist_time[1,0]\n",
        "print(ftc_time)\n",
        "print(ftc_times)\n",
        "print(stc_time)\n",
        "print(stc_times)"
      ],
      "execution_count": 42,
      "outputs": [
        {
          "output_type": "stream",
          "text": [
            "[10 15 17 26]\n",
            "10\n",
            "[12 11 21 24]\n",
            "12\n"
          ],
          "name": "stdout"
        }
      ]
    },
    {
      "cell_type": "code",
      "metadata": {
        "colab": {
          "base_uri": "https://localhost:8080/"
        },
        "id": "Ecb8XUDYn6uj",
        "outputId": "95dfd969-6afb-4eab-af60-55a73c6a68c2"
      },
      "source": [
        "#Two dimensional array tuple-ordered list\n",
        "\n",
        "first_trial_cyclist = [10,15,17,26]\n",
        "second_trial_cyclist = [12,11,21,24]\n",
        "cyclist_time = np.array([[10,15,17,26],[12,11,21,24]]) #array0 #arrray1\n",
        "ftc_time = cyclist_time[0]\n",
        "print(ftc_time)\n",
        "\n",
        "ftc_times = cyclist_time[0,0] #array and (element) location in the array\n",
        "print(ftc_times)\n",
        "\n",
        "stc_time = cyclist_time[1]\n",
        "print(stc_time)\n",
        "\n",
        "stc_times = cyclist_time[1,0]\n",
        "print(stc_times)\n",
        "\n",
        "\n",
        "\n"
      ],
      "execution_count": 40,
      "outputs": [
        {
          "output_type": "stream",
          "text": [
            "[10 15 17 26]\n",
            "10\n",
            "[12 11 21 24]\n",
            "12\n"
          ],
          "name": "stdout"
        }
      ]
    },
    {
      "cell_type": "code",
      "metadata": {
        "colab": {
          "base_uri": "https://localhost:8080/"
        },
        "id": "xboDW89itwkM",
        "outputId": "85b762f5-5827-4eeb-cb4c-0587ecfbb0c4"
      },
      "source": [
        "#Boolean Arrays: use criteria or set condition to select values\n",
        "\n",
        "test_score = np.array([[81,72,57,63],[54,61,87,45]])\n",
        "passing_score = test_score >80 \n",
        "passing_score\n",
        "test_score[passing_score]"
      ],
      "execution_count": 47,
      "outputs": [
        {
          "output_type": "execute_result",
          "data": {
            "text/plain": [
              "array([81, 87])"
            ]
          },
          "metadata": {
            "tags": []
          },
          "execution_count": 47
        }
      ]
    },
    {
      "cell_type": "code",
      "metadata": {
        "colab": {
          "base_uri": "https://localhost:8080/",
          "height": 37
        },
        "id": "bqtv8h33tvFZ",
        "outputId": "e0dcd599-40df-40f6-f8d8-92bacae89079"
      },
      "source": [
        "#Copy & view- is a shallow copy\n",
        "\n",
        "NYC_Borough = np.array(['Manhattan', 'Queens', 'Staten Island','Bronx']) #original dataset\n",
        "NYC_Borough\n",
        "\n",
        "Boroughs_NYC = NYC_Borough\n",
        "Boroughs_in_NYC = Boroughs_NYC.view()\n",
        "Boroughs_in_NYC\n",
        "\n",
        "#Boroughs in NYC is NYC_Borough\n",
        "\n",
        "NYC_Borough is Boroughs_NYC\n",
        "len(Boroughs_in_NYC)\n",
        "Boroughs_in_NYC[3]"
      ],
      "execution_count": 53,
      "outputs": [
        {
          "output_type": "execute_result",
          "data": {
            "application/vnd.google.colaboratory.intrinsic+json": {
              "type": "string"
            },
            "text/plain": [
              "'Bronx'"
            ]
          },
          "metadata": {
            "tags": []
          },
          "execution_count": 53
        }
      ]
    },
    {
      "cell_type": "code",
      "metadata": {
        "colab": {
          "base_uri": "https://localhost:8080/"
        },
        "id": "JBxjV777xIaN",
        "outputId": "c251a7f6-a45b-4a7a-fb0b-3efc22743a17"
      },
      "source": [
        "#Universal Function: \n",
        "\n",
        "np_sqrt = np.sqrt([2,4,9,16])\n",
        "np_sqrt\n",
        "\n",
        "from numpy import pi\n",
        "#np.cos(0)\n",
        "#np.sin(pi/2)\n",
        "#np.cos(pi)\n",
        "np.floor([1.5,1.6,2.7,3.3,1.1,-0.3,-1.4])\n",
        "#np.exp([0,1,5])"
      ],
      "execution_count": 57,
      "outputs": [
        {
          "output_type": "execute_result",
          "data": {
            "text/plain": [
              "array([ 1.,  1.,  2.,  3.,  1., -1., -2.])"
            ]
          },
          "metadata": {
            "tags": []
          },
          "execution_count": 57
        }
      ]
    },
    {
      "cell_type": "code",
      "metadata": {
        "colab": {
          "base_uri": "https://localhost:8080/"
        },
        "id": "Vscy61JE15bt",
        "outputId": "a78dd672-e038-418c-ffcb-d908fddba9e3"
      },
      "source": [
        "#Broadcasting: Arithmetic operations between arrays of different shapes- select smaller array over bigger array\n",
        "\n",
        "array_a = np.array([2,3,5,9])\n",
        "array_b = np.array([0.3,0.3,0.3,0.3])\n",
        "\n",
        "#multiply\n",
        "array_a * array_b\n",
        "\n",
        "#variable with scalar view\n",
        "#scalar_c = 0.3\n",
        "#array_a * scalar_c"
      ],
      "execution_count": 60,
      "outputs": [
        {
          "output_type": "execute_result",
          "data": {
            "text/plain": [
              "array([0.6, 0.9, 1.5, 2.7])"
            ]
          },
          "metadata": {
            "tags": []
          },
          "execution_count": 60
        }
      ]
    },
    {
      "cell_type": "code",
      "metadata": {
        "colab": {
          "base_uri": "https://localhost:8080/"
        },
        "id": "ay4HelxB25Z3",
        "outputId": "98b9ceba-5936-4921-d9bf-19b70d9fdf79"
      },
      "source": [
        "#Transpose: change rows into column- np.linalg.inverse of a matrix- works only on a square matrix\n",
        "\n",
        "inverse_array = np.array([[10,20],[15,25]])\n",
        "np.linalg.inv(inverse_array)"
      ],
      "execution_count": 62,
      "outputs": [
        {
          "output_type": "execute_result",
          "data": {
            "text/plain": [
              "array([[-0.5,  0.4],\n",
              "       [ 0.3, -0.2]])"
            ]
          },
          "metadata": {
            "tags": []
          },
          "execution_count": 62
        }
      ]
    },
    {
      "cell_type": "code",
      "metadata": {
        "colab": {
          "base_uri": "https://localhost:8080/"
        },
        "id": "hZ-T5ubZ3043",
        "outputId": "add7a2f8-6a52-48da-d60f-db8e3815521d"
      },
      "source": [
        "#Trace: Sum of diagonal elements\n",
        "\n",
        "trace_array = np.array([[10,20],[22,31]])\n",
        "np.trace(trace_array)\n",
        "\n"
      ],
      "execution_count": 63,
      "outputs": [
        {
          "output_type": "execute_result",
          "data": {
            "text/plain": [
              "41"
            ]
          },
          "metadata": {
            "tags": []
          },
          "execution_count": 63
        }
      ]
    }
  ]
}