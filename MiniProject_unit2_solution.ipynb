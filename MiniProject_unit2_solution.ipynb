{
  "nbformat": 4,
  "nbformat_minor": 0,
  "metadata": {
    "colab": {
      "name": "MiniProject_unit2_solution.ipynb",
      "provenance": [],
      "collapsed_sections": [],
      "include_colab_link": true
    },
    "kernelspec": {
      "name": "python3",
      "display_name": "Python 3"
    }
  },
  "cells": [
    {
      "cell_type": "markdown",
      "metadata": {
        "id": "view-in-github",
        "colab_type": "text"
      },
      "source": [
        "<a href=\"https://colab.research.google.com/github/VielkaEncarnacion/DataAnalytics/blob/main/MiniProject_unit2_solution.ipynb\" target=\"_parent\"><img src=\"https://colab.research.google.com/assets/colab-badge.svg\" alt=\"Open In Colab\"/></a>"
      ]
    },
    {
      "cell_type": "markdown",
      "metadata": {
        "id": "eyOFW9MkrE38"
      },
      "source": [
        "Ask the user for a number. Depending on whether the number is even or odd, print out an appropriate message to the user.  Hint: how does an even / odd number react differently when divided by 2?\r\n",
        "\r\n",
        "**Bonus:**\r\n",
        "* if the number is a multiple of 4, print out a different message.\r\n",
        "* Ask the user for two numbers: one number to check (call it num) and one number to divide by (check).  If check divides evenly into num, tell that to the user.  If not, print a different appropriate message.\r\n",
        "* Write a custom function for finding whether the number is even or odd and call it in your main program code.\r\n",
        "\r\n",
        "\r\n",
        "\r\n",
        "\r\n",
        "\r\n"
      ]
    },
    {
      "cell_type": "code",
      "metadata": {
        "id": "l3PpjTi8q3zC",
        "colab": {
          "base_uri": "https://localhost:8080/"
        },
        "outputId": "f3f4bb54-9eda-49a6-ef35-cbed1bbafab5"
      },
      "source": [
        "number = int(input('Enter a number: '))\n",
        "user_number = number  % 2\n",
        "if user_number > 0:\n",
        "  print('Entered an odd number')\n",
        "else:\n",
        "    print('Entered an even number')\n",
        "\n"
      ],
      "execution_count": 11,
      "outputs": [
        {
          "output_type": "stream",
          "text": [
            "Enter a number: 6\n",
            "Entered an even number\n"
          ],
          "name": "stdout"
        }
      ]
    },
    {
      "cell_type": "code",
      "metadata": {
        "colab": {
          "base_uri": "https://localhost:8080/"
        },
        "id": "bnikGq1S0sPl",
        "outputId": "1bb4358c-7309-49df-932b-1a4897c991d2"
      },
      "source": [
        "number = int(input('Enter a number to check '))\n",
        "number_check = int(input('Enter a number to divide by '))\n",
        "\n",
        "if number % 4 == 0:\n",
        "  print(number, 'number is a multiple of 4')\n",
        "if number % 2 == 0:\n",
        "  print(number,'number is an even number')\n",
        "else:\n",
        "  print(number, 'number is an odd number')\n",
        "\n",
        "if number % number_check == 0:\n",
        "  print(number, 'divides evenly by', cnumber_check)\n",
        "else:\n",
        "  print(number, 'does not divide evenly by', number_check)"
      ],
      "execution_count": 12,
      "outputs": [
        {
          "output_type": "stream",
          "text": [
            "Enter a number to check 67\n",
            "Enter a number to divide by 4\n",
            "67 number is an odd number\n",
            "67 does not divide evenly by 4\n"
          ],
          "name": "stdout"
        }
      ]
    },
    {
      "cell_type": "markdown",
      "metadata": {
        "id": "j0aCubXkEui8"
      },
      "source": [
        "Make a two-player Rock-Paper-Scissors game. (Hint: Ask for player plays (using input), compare them, print out a message of congratulations to the winner, and ask if the players want to start a new game)​\r\n",
        "\r\n",
        "\r\n",
        "*  Remember the rules:​\r\n",
        "*  Rock beats scissors​\r\n",
        "*  Scissors beats paper​\r\n",
        "*  Paper beats rock\r\n",
        "\r\n",
        "\r\n",
        "\r\n",
        "\r\n",
        "\r\n",
        "\r\n"
      ]
    },
    {
      "cell_type": "code",
      "metadata": {
        "id": "ZwF9wr3eE7Fa",
        "colab": {
          "base_uri": "https://localhost:8080/"
        },
        "outputId": "51f9272c-f681-4e95-c105-c4c4bcb0dc5d"
      },
      "source": [
        "player1 = input(\"What's your name? \" + ' player 1 ')\n",
        "player2 = input('Whats your name? ' + ' player 2 ')\n",
        "player1_choice = input(\"%s, do you want to choose rock, paper or scissors?\" % player1)\n",
        "player2_choice = input(\"%s, do you want to choose rock, paper or scissors?\" % player2)\n",
        "def compare(u1, u2):\n",
        "    if player1 == player2:\n",
        "        print(\"It's a tie!\")\n",
        "    elif player1 == 'rock':\n",
        "        if player2 == 'scissors':\n",
        "            print(\"Rock wins!\")\n",
        "        else:\n",
        "            print(\"Paper wins!\")\n",
        "    elif player1 == 'scissors':\n",
        "        if player2 == 'paper':\n",
        "            print(\"Scissors win!\")\n",
        "        else:\n",
        "            print(\"Rock wins!\")\n",
        "    elif player1 == 'paper':\n",
        "        if player2 == 'rock':\n",
        "            print(\"Paper wins!\")\n",
        "        else:\n",
        "            print(\"Scissors win!\")\n",
        "    else:\n",
        "        print(\"Invalid input! Try again.\")\n",
        "\n",
        "print(compare(player1_choice, player2_choice))"
      ],
      "execution_count": 29,
      "outputs": [
        {
          "output_type": "stream",
          "text": [
            "What's your name?  player 1 jom\n",
            "Whats your name?  player 2 jo\n",
            "jom, do you want to choose rock, paper or scissors?paper\n",
            "jo, do you want to choose rock, paper or scissors?scissors\n",
            "Invalid input! Try again.\n",
            "None\n"
          ],
          "name": "stdout"
        }
      ]
    }
  ]
}