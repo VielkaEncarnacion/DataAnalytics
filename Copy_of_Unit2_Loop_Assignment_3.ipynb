{
  "nbformat": 4,
  "nbformat_minor": 0,
  "metadata": {
    "colab": {
      "name": "Copy of Unit2_Loop_Assignment_3.ipynb",
      "provenance": [],
      "collapsed_sections": [],
      "include_colab_link": true
    },
    "kernelspec": {
      "name": "python3",
      "display_name": "Python 3"
    }
  },
  "cells": [
    {
      "cell_type": "markdown",
      "metadata": {
        "id": "view-in-github",
        "colab_type": "text"
      },
      "source": [
        "<a href=\"https://colab.research.google.com/github/VielkaEncarnacion/DataAnalytics/blob/main/Copy_of_Unit2_Loop_Assignment_3.ipynb\" target=\"_parent\"><img src=\"https://colab.research.google.com/assets/colab-badge.svg\" alt=\"Open In Colab\"/></a>"
      ]
    },
    {
      "cell_type": "markdown",
      "metadata": {
        "id": "Vgs8Kp4TidFQ"
      },
      "source": [
        "# Intrdouction to Python - Loop - Assignment #3 "
      ]
    },
    {
      "cell_type": "markdown",
      "metadata": {
        "id": "_Hq7Ny79iwgD"
      },
      "source": [
        "## 1. Create a list that holds 5 data variables. "
      ]
    },
    {
      "cell_type": "code",
      "metadata": {
        "id": "lotvpVpvlKsR",
        "colab": {
          "base_uri": "https://localhost:8080/"
        },
        "outputId": "e3e67692-1691-45aa-e71e-83960498a928"
      },
      "source": [
        "CampusList = ['Baruch', \"Queens\", 'Hunter', 'LaGuardia', 'City']\n",
        "print(CampusList)"
      ],
      "execution_count": 1,
      "outputs": [
        {
          "output_type": "stream",
          "text": [
            "['Baruch', 'Queens', 'Hunter', 'LaGuardia', 'City']\n"
          ],
          "name": "stdout"
        }
      ]
    },
    {
      "cell_type": "markdown",
      "metadata": {
        "id": "io_27RSlizno"
      },
      "source": [
        "## 2.\tPrint out those variables by using a for loop"
      ]
    },
    {
      "cell_type": "code",
      "metadata": {
        "id": "Dh1o5cAylSHB",
        "colab": {
          "base_uri": "https://localhost:8080/"
        },
        "outputId": "69503391-fa91-43e4-8937-3d486074eca4"
      },
      "source": [
        "CampusList = ['Baruch', \"Queens\", 'Hunter', 'LaGuardia', 'City']\n",
        "print(CampusList)\n",
        "for campus in CampusList:\n",
        "  print(campus)"
      ],
      "execution_count": 2,
      "outputs": [
        {
          "output_type": "stream",
          "text": [
            "['Baruch', 'Queens', 'Hunter', 'LaGuardia', 'City']\n",
            "Baruch\n",
            "Queens\n",
            "Hunter\n",
            "LaGuardia\n",
            "City\n"
          ],
          "name": "stdout"
        }
      ]
    },
    {
      "cell_type": "markdown",
      "metadata": {
        "id": "DAW8m8IQjRyR"
      },
      "source": [
        "## 3.\tModify your for loop to add a message to your for loop."
      ]
    },
    {
      "cell_type": "code",
      "metadata": {
        "id": "guULMEhrjYtT",
        "colab": {
          "base_uri": "https://localhost:8080/"
        },
        "outputId": "857642e0-0b76-4745-e9db-c9717006aa81"
      },
      "source": [
        "CampusList = ['Baruch', \"Queens\", 'Hunter', 'LaGuardia', 'City']\n",
        "print(CampusList)\n",
        "for campus in CampusList:\n",
        "  print(campus.title() + ' College is one of my favorite campuses!\\n' + ' I love to visit them' + '  everytime I can.\\n')\n",
        "print('They are beautiful')"
      ],
      "execution_count": 6,
      "outputs": [
        {
          "output_type": "stream",
          "text": [
            "['Baruch', 'Queens', 'Hunter', 'LaGuardia', 'City']\n",
            "Baruch College is one of my favorite campuses!\n",
            " I love to visit them  everytime I can.\n",
            "\n",
            "Queens College is one of my favorite campuses!\n",
            " I love to visit them  everytime I can.\n",
            "\n",
            "Hunter College is one of my favorite campuses!\n",
            " I love to visit them  everytime I can.\n",
            "\n",
            "Laguardia College is one of my favorite campuses!\n",
            " I love to visit them  everytime I can.\n",
            "\n",
            "City College is one of my favorite campuses!\n",
            " I love to visit them  everytime I can.\n",
            "\n",
            "They are beautiful\n"
          ],
          "name": "stdout"
        }
      ]
    },
    {
      "cell_type": "code",
      "metadata": {
        "id": "cv946RaOjw-G"
      },
      "source": [
        ""
      ],
      "execution_count": null,
      "outputs": []
    },
    {
      "cell_type": "markdown",
      "metadata": {
        "id": "dpa_YOt4jXyo"
      },
      "source": [
        "## 4.\tUse a for loop to print even numbers from 1-20."
      ]
    },
    {
      "cell_type": "code",
      "metadata": {
        "id": "pltxfnh3iJLW",
        "colab": {
          "base_uri": "https://localhost:8080/"
        },
        "outputId": "e877b95f-4bc0-4685-e44f-daa29776b0ed"
      },
      "source": [
        "numberlist = list(range(0,21,2))\n",
        "for numbers in numberlist:\n",
        "  print(numbers)"
      ],
      "execution_count": 42,
      "outputs": [
        {
          "output_type": "stream",
          "text": [
            "0\n",
            "2\n",
            "4\n",
            "6\n",
            "8\n",
            "10\n",
            "12\n",
            "14\n",
            "16\n",
            "18\n",
            "20\n"
          ],
          "name": "stdout"
        }
      ]
    },
    {
      "cell_type": "markdown",
      "metadata": {
        "id": "Ka84RGy4jmLT"
      },
      "source": [
        "## 5.\tSort your list in alphabetic order."
      ]
    },
    {
      "cell_type": "code",
      "metadata": {
        "id": "34IFFtK4jrg4",
        "colab": {
          "base_uri": "https://localhost:8080/"
        },
        "outputId": "4e8e1283-53ce-4b99-9319-c35da7d5bd73"
      },
      "source": [
        "fruitlist = ['apples','pinapple','figs','grapes','kiwi','bananas']\n",
        "fruitlist.sort()\n",
        "print(fruitlist)"
      ],
      "execution_count": 26,
      "outputs": [
        {
          "output_type": "stream",
          "text": [
            "['apples', 'bananas', 'figs', 'grapes', 'kiwi', 'pinapple']\n"
          ],
          "name": "stdout"
        }
      ]
    },
    {
      "cell_type": "markdown",
      "metadata": {
        "id": "ZKHwdMnLliFy"
      },
      "source": [
        "## 6.\tPrint out the first three elements of your list."
      ]
    },
    {
      "cell_type": "code",
      "metadata": {
        "id": "eXUDZfLOllTT",
        "colab": {
          "base_uri": "https://localhost:8080/"
        },
        "outputId": "fb64b486-4765-43b7-e3a7-996f58d03955"
      },
      "source": [
        "fruitlist = ['apples','bananas','figs','grapes','kiwi','mangoes']\n",
        "print(fruitlist[:3])"
      ],
      "execution_count": 12,
      "outputs": [
        {
          "output_type": "stream",
          "text": [
            "['apples', 'bananas', 'figs']\n"
          ],
          "name": "stdout"
        }
      ]
    },
    {
      "cell_type": "markdown",
      "metadata": {
        "id": "oedkoLECmv6x"
      },
      "source": [
        "## 7.\tCreate a loop to print the last 2 elements of your list."
      ]
    },
    {
      "cell_type": "code",
      "metadata": {
        "id": "jjh2GdktllZY",
        "colab": {
          "base_uri": "https://localhost:8080/"
        },
        "outputId": "2931f50f-bed3-4ee8-a793-d49879deb0e5"
      },
      "source": [
        "fruitlist = ['apples','bananas','figs','grapes','kiwi','mangoes']\n",
        "for fruit in fruitlist:\n",
        "    print(fruitlist[-2:])"
      ],
      "execution_count": 24,
      "outputs": [
        {
          "output_type": "stream",
          "text": [
            "['kiwi', 'mangoes']\n",
            "['kiwi', 'mangoes']\n",
            "['kiwi', 'mangoes']\n",
            "['kiwi', 'mangoes']\n",
            "['kiwi', 'mangoes']\n",
            "['kiwi', 'mangoes']\n"
          ],
          "name": "stdout"
        }
      ]
    }
  ]
}