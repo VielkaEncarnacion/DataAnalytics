{
  "nbformat": 4,
  "nbformat_minor": 0,
  "metadata": {
    "colab": {
      "name": "PythonPractice-Lists.ipynb",
      "provenance": [],
      "authorship_tag": "ABX9TyON47j7vLWsuBKRFN17MMOQ",
      "include_colab_link": true
    },
    "kernelspec": {
      "name": "python3",
      "display_name": "Python 3"
    }
  },
  "cells": [
    {
      "cell_type": "markdown",
      "metadata": {
        "id": "view-in-github",
        "colab_type": "text"
      },
      "source": [
        "<a href=\"https://colab.research.google.com/github/VielkaEncarnacion/DataAnalytics/blob/main/PythonPractice_Lists.ipynb\" target=\"_parent\"><img src=\"https://colab.research.google.com/assets/colab-badge.svg\" alt=\"Open In Colab\"/></a>"
      ]
    },
    {
      "cell_type": "code",
      "metadata": {
        "colab": {
          "base_uri": "https://localhost:8080/"
        },
        "id": "YHDciGzRtFiK",
        "outputId": "a83f01fe-03f0-481f-dfaf-170e90e9e9d0"
      },
      "source": [
        "Friends = ['Amy', 'David', 'Michael']\n",
        "print(Friends)\n",
        "print(Friends[1])\n",
        "print(Friends[-1])\n",
        "print(Friends[0])\n",
        "\n",
        "message = 'Long time no see, ' +Friends[0]\n",
        "print(message +Friends[0])\n"
      ],
      "execution_count": null,
      "outputs": [
        {
          "output_type": "stream",
          "text": [
            "['Amy', 'David', 'Michael']\n",
            "David\n",
            "Michael\n",
            "Amy\n",
            "Long time no see, AmyAmy\n"
          ],
          "name": "stdout"
        }
      ]
    },
    {
      "cell_type": "code",
      "metadata": {
        "colab": {
          "base_uri": "https://localhost:8080/"
        },
        "id": "VlpKV8mNxuL2",
        "outputId": "d16d1ac5-1617-4fe6-9783-ef95e0899d5d"
      },
      "source": [
        "Friends = ['Amy', 'David', 'Michael']\n",
        "Friends[1] = 'Susan'\n",
        "print(Friends)\n",
        "#add more names to the list\n",
        "Friendsnew = ['Chloe', 'Matthew']\n",
        "#Append a list\n",
        "Friends.append(['Chloe', 'Matthew'])\n",
        "print(Friends)\n",
        "#You can add a list behind a previously created list- append the new list\n",
        "FriendsNewList = ['Sam', 'Patrick', 'Peter']\n",
        "FriendsNewList.append(['Dan', 'Missy'])\n",
        "print(FriendsNewList)\n"
      ],
      "execution_count": null,
      "outputs": [
        {
          "output_type": "stream",
          "text": [
            "['Amy', 'Susan', 'Michael']\n",
            "['Amy', 'Susan', 'Michael', ['Chloe', 'Matthew']]\n",
            "['Sam', 'Patrick', 'Peter', ['Dan', 'Missy']]\n"
          ],
          "name": "stdout"
        }
      ]
    },
    {
      "cell_type": "code",
      "metadata": {
        "colab": {
          "base_uri": "https://localhost:8080/"
        },
        "id": "oXrqPnsZ2Wqa",
        "outputId": "1daec539-60bd-4ff8-d120-d83b026d8571"
      },
      "source": [
        "Friends = ['Amy', 'David', 'Michael']\n",
        "print(Friends)\n",
        "del Friends [1]\n",
        "print(Friends)"
      ],
      "execution_count": null,
      "outputs": [
        {
          "output_type": "stream",
          "text": [
            "['Amy', 'David', 'Michael']\n",
            "['Amy', 'Michael']\n"
          ],
          "name": "stdout"
        }
      ]
    },
    {
      "cell_type": "code",
      "metadata": {
        "colab": {
          "base_uri": "https://localhost:8080/"
        },
        "id": "Qy3t6Xqn3_Ux",
        "outputId": "ac441254-789e-4787-836d-ee2dd2cf0594"
      },
      "source": [
        "Friends = ['Amy', 'David', 'Michael']\n",
        "Friends.remove('Amy')\n",
        "print(Friends)"
      ],
      "execution_count": null,
      "outputs": [
        {
          "output_type": "stream",
          "text": [
            "['David', 'Michael']\n"
          ],
          "name": "stdout"
        }
      ]
    },
    {
      "cell_type": "code",
      "metadata": {
        "id": "nDx1W5vn4I1X"
      },
      "source": [
        ""
      ],
      "execution_count": null,
      "outputs": []
    },
    {
      "cell_type": "code",
      "metadata": {
        "colab": {
          "base_uri": "https://localhost:8080/"
        },
        "id": "wWlzd4si5B5q",
        "outputId": "9b9144c3-59a9-4875-a332-78734e3591e5"
      },
      "source": [
        "foods = ['Pizza', 'Fries', 'Salad']\n",
        "print(foods)\n",
        "foods.append(['Ice Cream', \"Bread\"])\n",
        "print(foods)\n",
        "foods.insert(3,'Juice')\n",
        "\n",
        "del foods[2]\n",
        "print(foods)"
      ],
      "execution_count": null,
      "outputs": [
        {
          "output_type": "stream",
          "text": [
            "['Pizza', 'Fries', 'Salad']\n",
            "['Pizza', 'Fries', 'Salad', ['Ice Cream', 'Bread']]\n",
            "['Pizza', 'Fries', 'Juice', ['Ice Cream', 'Bread']]\n"
          ],
          "name": "stdout"
        }
      ]
    },
    {
      "cell_type": "code",
      "metadata": {
        "colab": {
          "base_uri": "https://localhost:8080/"
        },
        "id": "ChZhqZ6v7LjF",
        "outputId": "9efb20e4-3f0c-4b08-f51c-fe93b733692b"
      },
      "source": [
        "print(foods)\n",
        "foods.sort()\n",
        "print(foods)\n",
        "foods.sort(reverse=True)\n",
        "print(foods)\n",
        "len(foods)\n",
        "print(sorted(foods))"
      ],
      "execution_count": null,
      "outputs": [
        {
          "output_type": "stream",
          "text": [
            "['Salad', 'Pizza', 'Fries']\n",
            "['Fries', 'Pizza', 'Salad']\n",
            "['Salad', 'Pizza', 'Fries']\n",
            "['Fries', 'Pizza', 'Salad']\n"
          ],
          "name": "stdout"
        }
      ]
    },
    {
      "cell_type": "code",
      "metadata": {
        "colab": {
          "base_uri": "https://localhost:8080/"
        },
        "id": "GHiYm7lf8cLc",
        "outputId": "0ba213b2-d859-4fa8-9561-6d9000dd0846"
      },
      "source": [
        "destinations = ['Italy', 'Germany', 'United Kingdom', 'Greece', 'Spain']\n",
        "print(destinations)\n",
        "destinations.sort()\n",
        "\n",
        "destinations.sort(reverse=True)\n",
        "print(destinations)\n",
        "len(destinations)"
      ],
      "execution_count": null,
      "outputs": [
        {
          "output_type": "stream",
          "text": [
            "['Italy', 'Germany', 'United Kingdom', 'Greece', 'Spain']\n",
            "['United Kingdom', 'Spain', 'Italy', 'Greece', 'Germany']\n"
          ],
          "name": "stdout"
        },
        {
          "output_type": "execute_result",
          "data": {
            "text/plain": [
              "5"
            ]
          },
          "metadata": {
            "tags": []
          },
          "execution_count": 54
        }
      ]
    }
  ]
}